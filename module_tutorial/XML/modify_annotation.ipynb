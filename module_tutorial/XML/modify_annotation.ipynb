{
 "cells": [
  {
   "cell_type": "code",
   "execution_count": 2,
   "metadata": {
    "collapsed": true
   },
   "outputs": [],
   "source": [
    "\"\"\"\n",
    "参考資料\n",
    "http://tmlife.net/programming/python/python-xml-minidom.html\n",
    "-> minidomを用いたXMLの操作\n",
    "\"\"\"\n",
    "from xml.dom import minidom"
   ]
  },
  {
   "cell_type": "code",
   "execution_count": 3,
   "metadata": {
    "collapsed": true
   },
   "outputs": [],
   "source": [
    "# sample.xmlファイルを読み込む\n",
    "xdoc = minidom.parse(\"sample_xml/004545.xml\")\n",
    "\n",
    "# 内容を文字列に変換して表示\n",
    "#print(xdoc.toxml())"
   ]
  },
  {
   "cell_type": "code",
   "execution_count": 4,
   "metadata": {},
   "outputs": [
    {
     "name": "stdout",
     "output_type": "stream",
     "text": [
      "dog\n",
      "dog_modified\n"
     ]
    }
   ],
   "source": [
    "# recipe タグの0番目の要素を取得\n",
    "category_element = xdoc.getElementsByTagName(\"name\")[0]\n",
    " \n",
    "# データを表示\n",
    "print(category_element.childNodes[0].data)\n",
    " \n",
    "# データを変更\n",
    "category_element.childNodes[0].data = \"dog_modified\"\n",
    " \n",
    "# データを再表示\n",
    "print(category_element.childNodes[0].data)"
   ]
  },
  {
   "cell_type": "code",
   "execution_count": 5,
   "metadata": {},
   "outputs": [],
   "source": [
    "# XML書き出し\n",
    "\"\"\"\n",
    "参考資料\n",
    "http://www.geocities.jp/penguinitis2002/computer/programming/Python/xml.html\n",
    "-> XML書き出しの方法を参考にした（単なるI/Oの話で十分だった）\n",
    "\"\"\"\n",
    "with open('sample_xml_modified/004545_modified.xml', 'w') as f:\n",
    "    f.write(xdoc.toxml())"
   ]
  },
  {
   "cell_type": "code",
   "execution_count": null,
   "metadata": {
    "collapsed": true
   },
   "outputs": [],
   "source": []
  }
 ],
 "metadata": {
  "kernelspec": {
   "display_name": "Python 3",
   "language": "python",
   "name": "python3"
  },
  "language_info": {
   "codemirror_mode": {
    "name": "ipython",
    "version": 3
   },
   "file_extension": ".py",
   "mimetype": "text/x-python",
   "name": "python",
   "nbconvert_exporter": "python",
   "pygments_lexer": "ipython3",
   "version": "3.5.2"
  }
 },
 "nbformat": 4,
 "nbformat_minor": 2
}
